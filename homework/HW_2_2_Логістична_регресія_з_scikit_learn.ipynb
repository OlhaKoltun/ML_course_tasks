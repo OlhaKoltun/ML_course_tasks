{
 "cells": [
  {
   "cell_type": "markdown",
   "metadata": {
    "id": "gJ2A6t3mdEed"
   },
   "source": [
    "В цьому домашньому завданні ми побудуємо рішення задачі логістичної регресії і створимо ваш перший submission на змагання на Kaggle. Усі кроки були розглянуті в лекції та містяться в ноутбуці `Логістична регресія з ScikitLearn. Повна ML задача.ipynb`, але тепер ми їх адаптуємо до іншої задачі - все як в реальному житті, коли ви знайшли код у відкритих джерелах і адаптуєте на проєкті 😉\n",
    "\n",
    "**Погнали! 🚀🚀🚀**\n",
    "\n",
    "-----------\n",
    "\n",
    "\n",
    "\n",
    "0. Завантажте дані `train.csv`, `test.csv`, `sample_submission.csv` зі змагання на Kaggle [\"Bank Customer Churn Prediction (DLU Course)\"](https://www.kaggle.com/competitions/bank-customer-churn-prediction-dlu-course-c-2). Для завантаження потрібно долучитись до змагання (натиснути кнопку \"Join\").\n",
    "\n",
    "1. Зчитайте дані `train.csv` в pandas dataframe та розбийте їх на train і validation піднабори.\n",
    "\n",
    "  * Є такий параметр в методі train_test_split як stratified. Можливо він буде Вам корисним при розбитті даних в цій задачі. Пропоную Вам почитати про нього в документації і спробувати скористатись."
   ]
  },
  {
   "cell_type": "code",
   "execution_count": 1,
   "metadata": {
    "id": "2J2bS-kL2cHV"
   },
   "outputs": [],
   "source": [
    "import os\n",
    "import numpy as np\n",
    "import pandas as pd\n",
    "\n",
    "from sklearn.preprocessing import StandardScaler, OneHotEncoder\n",
    "from sklearn.compose import ColumnTransformer\n",
    "from sklearn.pipeline import Pipeline\n",
    "from sklearn.linear_model import LogisticRegression\n",
    "from sklearn.model_selection import train_test_split\n",
    "\n",
    "from sklearn.metrics import (\n",
    "    accuracy_score,\n",
    "    confusion_matrix,\n",
    "    f1_score,\n",
    "    roc_curve,\n",
    "    roc_auc_score,\n",
    "    auc\n",
    ")\n",
    "\n",
    "import matplotlib.pyplot as plt\n",
    "import seaborn as sns\n",
    "\n",
    "import joblib"
   ]
  },
  {
   "cell_type": "code",
   "execution_count": 2,
   "metadata": {},
   "outputs": [
    {
     "data": {
      "text/html": [
       "<div>\n",
       "<style scoped>\n",
       "    .dataframe tbody tr th:only-of-type {\n",
       "        vertical-align: middle;\n",
       "    }\n",
       "\n",
       "    .dataframe tbody tr th {\n",
       "        vertical-align: top;\n",
       "    }\n",
       "\n",
       "    .dataframe thead th {\n",
       "        text-align: right;\n",
       "    }\n",
       "</style>\n",
       "<table border=\"1\" class=\"dataframe\">\n",
       "  <thead>\n",
       "    <tr style=\"text-align: right;\">\n",
       "      <th></th>\n",
       "      <th>id</th>\n",
       "      <th>CustomerId</th>\n",
       "      <th>Surname</th>\n",
       "      <th>CreditScore</th>\n",
       "      <th>Geography</th>\n",
       "      <th>Gender</th>\n",
       "      <th>Age</th>\n",
       "      <th>Tenure</th>\n",
       "      <th>Balance</th>\n",
       "      <th>NumOfProducts</th>\n",
       "      <th>HasCrCard</th>\n",
       "      <th>IsActiveMember</th>\n",
       "      <th>EstimatedSalary</th>\n",
       "      <th>Exited</th>\n",
       "    </tr>\n",
       "  </thead>\n",
       "  <tbody>\n",
       "    <tr>\n",
       "      <th>0</th>\n",
       "      <td>0</td>\n",
       "      <td>15779985.0</td>\n",
       "      <td>Nwankwo</td>\n",
       "      <td>678.0</td>\n",
       "      <td>France</td>\n",
       "      <td>Male</td>\n",
       "      <td>29.0</td>\n",
       "      <td>4.0</td>\n",
       "      <td>0.00</td>\n",
       "      <td>3.0</td>\n",
       "      <td>1.0</td>\n",
       "      <td>0.0</td>\n",
       "      <td>180626.36</td>\n",
       "      <td>0.0</td>\n",
       "    </tr>\n",
       "    <tr>\n",
       "      <th>1</th>\n",
       "      <td>1</td>\n",
       "      <td>15650086.0</td>\n",
       "      <td>Ch'in</td>\n",
       "      <td>687.0</td>\n",
       "      <td>France</td>\n",
       "      <td>Female</td>\n",
       "      <td>34.0</td>\n",
       "      <td>1.0</td>\n",
       "      <td>0.00</td>\n",
       "      <td>2.0</td>\n",
       "      <td>0.0</td>\n",
       "      <td>1.0</td>\n",
       "      <td>63736.17</td>\n",
       "      <td>0.0</td>\n",
       "    </tr>\n",
       "    <tr>\n",
       "      <th>2</th>\n",
       "      <td>2</td>\n",
       "      <td>15733602.0</td>\n",
       "      <td>Thompson</td>\n",
       "      <td>682.0</td>\n",
       "      <td>France</td>\n",
       "      <td>Female</td>\n",
       "      <td>52.0</td>\n",
       "      <td>6.0</td>\n",
       "      <td>0.00</td>\n",
       "      <td>3.0</td>\n",
       "      <td>0.0</td>\n",
       "      <td>0.0</td>\n",
       "      <td>179655.87</td>\n",
       "      <td>1.0</td>\n",
       "    </tr>\n",
       "    <tr>\n",
       "      <th>3</th>\n",
       "      <td>3</td>\n",
       "      <td>15645794.0</td>\n",
       "      <td>Macleod</td>\n",
       "      <td>753.0</td>\n",
       "      <td>Germany</td>\n",
       "      <td>Male</td>\n",
       "      <td>44.0</td>\n",
       "      <td>6.0</td>\n",
       "      <td>83347.25</td>\n",
       "      <td>2.0</td>\n",
       "      <td>1.0</td>\n",
       "      <td>0.0</td>\n",
       "      <td>161407.48</td>\n",
       "      <td>0.0</td>\n",
       "    </tr>\n",
       "    <tr>\n",
       "      <th>4</th>\n",
       "      <td>4</td>\n",
       "      <td>15633840.0</td>\n",
       "      <td>Hsia</td>\n",
       "      <td>544.0</td>\n",
       "      <td>Germany</td>\n",
       "      <td>Female</td>\n",
       "      <td>55.0</td>\n",
       "      <td>0.0</td>\n",
       "      <td>107747.57</td>\n",
       "      <td>1.0</td>\n",
       "      <td>1.0</td>\n",
       "      <td>0.0</td>\n",
       "      <td>176580.86</td>\n",
       "      <td>1.0</td>\n",
       "    </tr>\n",
       "  </tbody>\n",
       "</table>\n",
       "</div>"
      ],
      "text/plain": [
       "   id  CustomerId   Surname  CreditScore Geography  Gender   Age  Tenure  \\\n",
       "0   0  15779985.0   Nwankwo        678.0    France    Male  29.0     4.0   \n",
       "1   1  15650086.0     Ch'in        687.0    France  Female  34.0     1.0   \n",
       "2   2  15733602.0  Thompson        682.0    France  Female  52.0     6.0   \n",
       "3   3  15645794.0   Macleod        753.0   Germany    Male  44.0     6.0   \n",
       "4   4  15633840.0      Hsia        544.0   Germany  Female  55.0     0.0   \n",
       "\n",
       "     Balance  NumOfProducts  HasCrCard  IsActiveMember  EstimatedSalary  \\\n",
       "0       0.00            3.0        1.0             0.0        180626.36   \n",
       "1       0.00            2.0        0.0             1.0         63736.17   \n",
       "2       0.00            3.0        0.0             0.0        179655.87   \n",
       "3   83347.25            2.0        1.0             0.0        161407.48   \n",
       "4  107747.57            1.0        1.0             0.0        176580.86   \n",
       "\n",
       "   Exited  \n",
       "0     0.0  \n",
       "1     0.0  \n",
       "2     1.0  \n",
       "3     0.0  \n",
       "4     1.0  "
      ]
     },
     "execution_count": 2,
     "metadata": {},
     "output_type": "execute_result"
    }
   ],
   "source": [
    "data_path = r'C:\\Users\\olha.koltun\\OneDrive - Trico\\ML Course\\data\\bank-customer-churn-prediction-dlu-course-c-2'\n",
    "\n",
    "raw_df = pd.read_csv(os.path.join(data_path, 'train.csv'))\n",
    "\n",
    "raw_df.head()"
   ]
  },
  {
   "cell_type": "code",
   "execution_count": 3,
   "metadata": {},
   "outputs": [
    {
     "name": "stdout",
     "output_type": "stream",
     "text": [
      "<class 'pandas.core.frame.DataFrame'>\n",
      "RangeIndex: 15000 entries, 0 to 14999\n",
      "Data columns (total 14 columns):\n",
      " #   Column           Non-Null Count  Dtype  \n",
      "---  ------           --------------  -----  \n",
      " 0   id               15000 non-null  int64  \n",
      " 1   CustomerId       15000 non-null  float64\n",
      " 2   Surname          15000 non-null  object \n",
      " 3   CreditScore      15000 non-null  float64\n",
      " 4   Geography        15000 non-null  object \n",
      " 5   Gender           15000 non-null  object \n",
      " 6   Age              15000 non-null  float64\n",
      " 7   Tenure           15000 non-null  float64\n",
      " 8   Balance          15000 non-null  float64\n",
      " 9   NumOfProducts    15000 non-null  float64\n",
      " 10  HasCrCard        15000 non-null  float64\n",
      " 11  IsActiveMember   15000 non-null  float64\n",
      " 12  EstimatedSalary  15000 non-null  float64\n",
      " 13  Exited           15000 non-null  float64\n",
      "dtypes: float64(10), int64(1), object(3)\n",
      "memory usage: 1.6+ MB\n"
     ]
    }
   ],
   "source": [
    "raw_df.info()"
   ]
  },
  {
   "cell_type": "code",
   "execution_count": 4,
   "metadata": {},
   "outputs": [
    {
     "data": {
      "text/plain": [
       "Exited\n",
       "0.0    11948\n",
       "1.0     3052\n",
       "Name: count, dtype: int64"
      ]
     },
     "execution_count": 4,
     "metadata": {},
     "output_type": "execute_result"
    }
   ],
   "source": [
    "raw_df['Exited'].value_counts()"
   ]
  },
  {
   "cell_type": "code",
   "execution_count": 5,
   "metadata": {},
   "outputs": [
    {
     "name": "stdout",
     "output_type": "stream",
     "text": [
      "train_df.shape : (12000, 14)\n",
      "val_df.shape : (3000, 14)\n"
     ]
    }
   ],
   "source": [
    "train_df, val_df = train_test_split(raw_df, test_size=0.2, random_state=42, stratify=raw_df['Exited'])\n",
    "\n",
    "print('train_df.shape :', train_df.shape)\n",
    "print('val_df.shape :', val_df.shape)"
   ]
  },
  {
   "cell_type": "markdown",
   "metadata": {
    "id": "YmhrsCrThfKp"
   },
   "source": [
    "2. Визначіть назви колонок, які сформують вхідні незалежні дані, в змінній `input_cols` та назву колонки , яка є цільовою, в змінній `target_col`. Використовуючи `input_cols` та `target_col` створіть набори даних `train_inputs`, `train_targets`, `val_inputs`, `val_targets` - де `inputs` - вхідні дані (датафрейм), `targets` - дані цільової колонки відповідного піднабору."
   ]
  },
  {
   "cell_type": "code",
   "execution_count": 6,
   "metadata": {},
   "outputs": [
    {
     "name": "stdout",
     "output_type": "stream",
     "text": [
      "train_inputs.shape : (12000, 10)\n",
      "val_inputs.shape : (3000, 10)\n",
      "train_targets.shape : (12000,)\n",
      "val_targets.shape : (3000,)\n"
     ]
    }
   ],
   "source": [
    "input_cols = list(raw_df.columns)[3:-1]\n",
    "target_col = 'Exited'\n",
    "\n",
    "train_inputs = train_df[input_cols].copy()\n",
    "val_inputs = val_df[input_cols].copy()\n",
    "train_targets = train_df[target_col].copy()\n",
    "val_targets = val_df[target_col].copy()\n",
    "\n",
    "print('train_inputs.shape :', train_inputs.shape)\n",
    "print('val_inputs.shape :', val_inputs.shape)\n",
    "print('train_targets.shape :', train_targets.shape)\n",
    "print('val_targets.shape :', val_targets.shape)"
   ]
  },
  {
   "cell_type": "markdown",
   "metadata": {
    "id": "BqhiVXa-iY5P"
   },
   "source": [
    "3. Визначіть з допомогою `pandas.DataFrame.select_dtypes` назви колонок, які є числовими і категоріальними. Запишіть результати в `numeric_cols` та `categorical_cols` відповідно."
   ]
  },
  {
   "cell_type": "code",
   "execution_count": 7,
   "metadata": {
    "id": "pz6Et14-2eRH"
   },
   "outputs": [
    {
     "data": {
      "text/plain": [
       "(['CreditScore',\n",
       "  'Age',\n",
       "  'Tenure',\n",
       "  'Balance',\n",
       "  'NumOfProducts',\n",
       "  'HasCrCard',\n",
       "  'IsActiveMember',\n",
       "  'EstimatedSalary'],\n",
       " ['Geography', 'Gender'])"
      ]
     },
     "execution_count": 7,
     "metadata": {},
     "output_type": "execute_result"
    }
   ],
   "source": [
    "numeric_cols = train_inputs.select_dtypes(include=np.number).columns.tolist()\n",
    "categorical_cols = train_inputs.select_dtypes('object').columns.tolist()\n",
    "\n",
    "numeric_cols, categorical_cols"
   ]
  },
  {
   "cell_type": "markdown",
   "metadata": {
    "id": "gz3W57xXlIO2"
   },
   "source": [
    "4. Зробіть підготовку даних в категоріальних і числових колонках для входу в модель виходячи з освоєного на даний момент на курсі. Варіанти пеердобробки, з якими ми вже знайомі:\n",
    "  - масштабування числових ознак,\n",
    "  - заповнення пропущених значень, якщо вони є,\n",
    "  - кодування категоріальних ознак, вилучення ознак, якщо ми вважаємо, що ці дані нерелевантні для моделі аби ми не бачимо способу як їх так закодувати, аби подати на вхід моделі.\n",
    "\n",
    "  Тут є багато варіантів, як Ви побудуєте передобробку, важливо аби\n",
    "  1) передобробка мала сенс (немає сенсу заповнювати дані константою, яку ми не зрозуміло звідки взяли)   \n",
    "  2) має бути виконана принаймні одна дія передобробки\n",
    "  3) обробка маэ бути виконана коректно і для тренувальних, і для вал. даних\n",
    "  4) чим вищий у Вас врешті вийде ROС AUC скор, тим більше шансів перемогти у змаганні :)\n",
    "\n",
    "  Опишіть рішення проведення кожного з кроків передобробки. Для чого ви його робите? По завершенню виведіть по 5 значен з `train_inputs`, `val_inputs` використовуючи `display()`."
   ]
  },
  {
   "cell_type": "code",
   "execution_count": 8,
   "metadata": {
    "id": "Co2hJVl32fUz"
   },
   "outputs": [
    {
     "data": {
      "text/html": [
       "<div>\n",
       "<style scoped>\n",
       "    .dataframe tbody tr th:only-of-type {\n",
       "        vertical-align: middle;\n",
       "    }\n",
       "\n",
       "    .dataframe tbody tr th {\n",
       "        vertical-align: top;\n",
       "    }\n",
       "\n",
       "    .dataframe thead th {\n",
       "        text-align: right;\n",
       "    }\n",
       "</style>\n",
       "<table border=\"1\" class=\"dataframe\">\n",
       "  <thead>\n",
       "    <tr style=\"text-align: right;\">\n",
       "      <th></th>\n",
       "      <th>CreditScore</th>\n",
       "      <th>Age</th>\n",
       "      <th>Tenure</th>\n",
       "      <th>Balance</th>\n",
       "      <th>NumOfProducts</th>\n",
       "      <th>HasCrCard</th>\n",
       "      <th>IsActiveMember</th>\n",
       "      <th>EstimatedSalary</th>\n",
       "    </tr>\n",
       "  </thead>\n",
       "  <tbody>\n",
       "    <tr>\n",
       "      <th>count</th>\n",
       "      <td>12000.00</td>\n",
       "      <td>12000.00</td>\n",
       "      <td>12000.00</td>\n",
       "      <td>12000.00</td>\n",
       "      <td>12000.00</td>\n",
       "      <td>12000.00</td>\n",
       "      <td>12000.00</td>\n",
       "      <td>12000.00</td>\n",
       "    </tr>\n",
       "    <tr>\n",
       "      <th>mean</th>\n",
       "      <td>658.84</td>\n",
       "      <td>37.69</td>\n",
       "      <td>5.03</td>\n",
       "      <td>43008.17</td>\n",
       "      <td>1.59</td>\n",
       "      <td>0.79</td>\n",
       "      <td>0.49</td>\n",
       "      <td>117992.40</td>\n",
       "    </tr>\n",
       "    <tr>\n",
       "      <th>std</th>\n",
       "      <td>72.33</td>\n",
       "      <td>8.14</td>\n",
       "      <td>2.78</td>\n",
       "      <td>59906.63</td>\n",
       "      <td>0.53</td>\n",
       "      <td>0.41</td>\n",
       "      <td>0.50</td>\n",
       "      <td>45589.48</td>\n",
       "    </tr>\n",
       "    <tr>\n",
       "      <th>min</th>\n",
       "      <td>431.00</td>\n",
       "      <td>18.00</td>\n",
       "      <td>0.00</td>\n",
       "      <td>0.00</td>\n",
       "      <td>1.00</td>\n",
       "      <td>0.00</td>\n",
       "      <td>0.00</td>\n",
       "      <td>11.58</td>\n",
       "    </tr>\n",
       "    <tr>\n",
       "      <th>25%</th>\n",
       "      <td>603.00</td>\n",
       "      <td>32.00</td>\n",
       "      <td>3.00</td>\n",
       "      <td>0.00</td>\n",
       "      <td>1.00</td>\n",
       "      <td>1.00</td>\n",
       "      <td>0.00</td>\n",
       "      <td>83343.73</td>\n",
       "    </tr>\n",
       "    <tr>\n",
       "      <th>50%</th>\n",
       "      <td>661.00</td>\n",
       "      <td>37.00</td>\n",
       "      <td>5.00</td>\n",
       "      <td>0.00</td>\n",
       "      <td>2.00</td>\n",
       "      <td>1.00</td>\n",
       "      <td>0.00</td>\n",
       "      <td>123613.91</td>\n",
       "    </tr>\n",
       "    <tr>\n",
       "      <th>75%</th>\n",
       "      <td>708.00</td>\n",
       "      <td>42.00</td>\n",
       "      <td>7.00</td>\n",
       "      <td>109949.05</td>\n",
       "      <td>2.00</td>\n",
       "      <td>1.00</td>\n",
       "      <td>1.00</td>\n",
       "      <td>156912.81</td>\n",
       "    </tr>\n",
       "    <tr>\n",
       "      <th>max</th>\n",
       "      <td>850.00</td>\n",
       "      <td>74.00</td>\n",
       "      <td>10.00</td>\n",
       "      <td>209767.31</td>\n",
       "      <td>4.00</td>\n",
       "      <td>1.00</td>\n",
       "      <td>1.00</td>\n",
       "      <td>199992.48</td>\n",
       "    </tr>\n",
       "  </tbody>\n",
       "</table>\n",
       "</div>"
      ],
      "text/plain": [
       "       CreditScore       Age    Tenure    Balance  NumOfProducts  HasCrCard  \\\n",
       "count     12000.00  12000.00  12000.00   12000.00       12000.00   12000.00   \n",
       "mean        658.84     37.69      5.03   43008.17           1.59       0.79   \n",
       "std          72.33      8.14      2.78   59906.63           0.53       0.41   \n",
       "min         431.00     18.00      0.00       0.00           1.00       0.00   \n",
       "25%         603.00     32.00      3.00       0.00           1.00       1.00   \n",
       "50%         661.00     37.00      5.00       0.00           2.00       1.00   \n",
       "75%         708.00     42.00      7.00  109949.05           2.00       1.00   \n",
       "max         850.00     74.00     10.00  209767.31           4.00       1.00   \n",
       "\n",
       "       IsActiveMember  EstimatedSalary  \n",
       "count        12000.00         12000.00  \n",
       "mean             0.49        117992.40  \n",
       "std              0.50         45589.48  \n",
       "min              0.00            11.58  \n",
       "25%              0.00         83343.73  \n",
       "50%              0.00        123613.91  \n",
       "75%              1.00        156912.81  \n",
       "max              1.00        199992.48  "
      ]
     },
     "execution_count": 8,
     "metadata": {},
     "output_type": "execute_result"
    }
   ],
   "source": [
    "train_inputs[numeric_cols].describe().round(2)"
   ]
  },
  {
   "cell_type": "code",
   "execution_count": 9,
   "metadata": {},
   "outputs": [
    {
     "name": "stdout",
     "output_type": "stream",
     "text": [
      "Binary Numeric Columns: ['HasCrCard', 'IsActiveMember']\n",
      "Continuous Numeric Columns: ['CreditScore', 'Age', 'Tenure', 'Balance', 'NumOfProducts', 'EstimatedSalary']\n"
     ]
    }
   ],
   "source": [
    "# Identify binary numeric columns from the numeric columns\n",
    "binary_numeric_cols = [col for col in numeric_cols if train_inputs[col].nunique() == 2]\n",
    "\n",
    "# Remaining numeric columns after excluding binary columns\n",
    "numeric_cols = [col for col in numeric_cols if col not in binary_numeric_cols]\n",
    "\n",
    "# Print the results\n",
    "print('Binary Numeric Columns:', binary_numeric_cols)\n",
    "print('Continuous Numeric Columns:', numeric_cols)"
   ]
  },
  {
   "cell_type": "code",
   "execution_count": 10,
   "metadata": {},
   "outputs": [],
   "source": [
    "# Scale numeric features\n",
    "scaler = StandardScaler().fit(train_inputs[numeric_cols])\n",
    "train_inputs[numeric_cols] = scaler.transform(train_inputs[numeric_cols])\n",
    "val_inputs[numeric_cols] = scaler.transform(val_inputs[numeric_cols])\n",
    "\n",
    "# One-hot encode categorical features\n",
    "encoder = OneHotEncoder(sparse_output=False, handle_unknown='ignore').fit(train_inputs[categorical_cols])\n",
    "encoded_cols = list(encoder.get_feature_names_out(categorical_cols))\n",
    "train_inputs[encoded_cols] = encoder.transform(train_inputs[categorical_cols])\n",
    "val_inputs[encoded_cols] = encoder.transform(val_inputs[categorical_cols])"
   ]
  },
  {
   "cell_type": "markdown",
   "metadata": {},
   "source": [
    "### Рішення передобробки\n",
    "\n",
    "1. **Визначення бінарних числових колонок**:\n",
    "   - Виділили колонки з двома унікальними значеннями (0 та 1) і залишили їх без обробки, оскільки вони вже готові до використання. Це спрощує роботу моделі, зберігаючи вхідну структуру даних.\n",
    "\n",
    "2. **Масштабування числових ознак**:\n",
    "   - Застосували `StandardScaler`, щоб стандартизувати числові дані. Це допомагає покращити точність і стабільність моделей, які чутливі до масштабу ознак.\n",
    "\n",
    "3. **Кодування категоріальних ознак**:\n",
    "   - Використали `OneHotEncoder` для перетворення текстових категорій на числові бінарні стовпці, які модель може розуміти.\n",
    "   - Параметр `handle_unknown='ignore'` допоміг уникнути помилок, якщо в тестових даних є нові категорії.\n"
   ]
  },
  {
   "cell_type": "code",
   "execution_count": 11,
   "metadata": {},
   "outputs": [
    {
     "name": "stdout",
     "output_type": "stream",
     "text": [
      "Train Inputs (first 5 rows):\n"
     ]
    },
    {
     "data": {
      "text/html": [
       "<div>\n",
       "<style scoped>\n",
       "    .dataframe tbody tr th:only-of-type {\n",
       "        vertical-align: middle;\n",
       "    }\n",
       "\n",
       "    .dataframe tbody tr th {\n",
       "        vertical-align: top;\n",
       "    }\n",
       "\n",
       "    .dataframe thead th {\n",
       "        text-align: right;\n",
       "    }\n",
       "</style>\n",
       "<table border=\"1\" class=\"dataframe\">\n",
       "  <thead>\n",
       "    <tr style=\"text-align: right;\">\n",
       "      <th></th>\n",
       "      <th>CreditScore</th>\n",
       "      <th>Geography</th>\n",
       "      <th>Gender</th>\n",
       "      <th>Age</th>\n",
       "      <th>Tenure</th>\n",
       "      <th>Balance</th>\n",
       "      <th>NumOfProducts</th>\n",
       "      <th>HasCrCard</th>\n",
       "      <th>IsActiveMember</th>\n",
       "      <th>EstimatedSalary</th>\n",
       "      <th>Geography_France</th>\n",
       "      <th>Geography_Germany</th>\n",
       "      <th>Geography_Spain</th>\n",
       "      <th>Gender_Female</th>\n",
       "      <th>Gender_Male</th>\n",
       "    </tr>\n",
       "  </thead>\n",
       "  <tbody>\n",
       "    <tr>\n",
       "      <th>7180</th>\n",
       "      <td>0.320187</td>\n",
       "      <td>France</td>\n",
       "      <td>Male</td>\n",
       "      <td>-0.944682</td>\n",
       "      <td>-1.447264</td>\n",
       "      <td>1.475464</td>\n",
       "      <td>-1.108193</td>\n",
       "      <td>1.0</td>\n",
       "      <td>1.0</td>\n",
       "      <td>0.569450</td>\n",
       "      <td>1.0</td>\n",
       "      <td>0.0</td>\n",
       "      <td>0.0</td>\n",
       "      <td>0.0</td>\n",
       "      <td>1.0</td>\n",
       "    </tr>\n",
       "    <tr>\n",
       "      <th>10393</th>\n",
       "      <td>0.347838</td>\n",
       "      <td>France</td>\n",
       "      <td>Female</td>\n",
       "      <td>0.161227</td>\n",
       "      <td>-1.087792</td>\n",
       "      <td>2.254434</td>\n",
       "      <td>-1.108193</td>\n",
       "      <td>1.0</td>\n",
       "      <td>0.0</td>\n",
       "      <td>0.603803</td>\n",
       "      <td>1.0</td>\n",
       "      <td>0.0</td>\n",
       "      <td>0.0</td>\n",
       "      <td>1.0</td>\n",
       "      <td>0.0</td>\n",
       "    </tr>\n",
       "    <tr>\n",
       "      <th>80</th>\n",
       "      <td>0.638166</td>\n",
       "      <td>Germany</td>\n",
       "      <td>Male</td>\n",
       "      <td>-0.330288</td>\n",
       "      <td>0.350096</td>\n",
       "      <td>1.223831</td>\n",
       "      <td>0.769304</td>\n",
       "      <td>1.0</td>\n",
       "      <td>0.0</td>\n",
       "      <td>1.238026</td>\n",
       "      <td>0.0</td>\n",
       "      <td>1.0</td>\n",
       "      <td>0.0</td>\n",
       "      <td>0.0</td>\n",
       "      <td>1.0</td>\n",
       "    </tr>\n",
       "    <tr>\n",
       "      <th>3365</th>\n",
       "      <td>0.140460</td>\n",
       "      <td>Spain</td>\n",
       "      <td>Male</td>\n",
       "      <td>2.495924</td>\n",
       "      <td>-1.806736</td>\n",
       "      <td>-0.717950</td>\n",
       "      <td>0.769304</td>\n",
       "      <td>0.0</td>\n",
       "      <td>1.0</td>\n",
       "      <td>-1.457116</td>\n",
       "      <td>0.0</td>\n",
       "      <td>0.0</td>\n",
       "      <td>1.0</td>\n",
       "      <td>0.0</td>\n",
       "      <td>1.0</td>\n",
       "    </tr>\n",
       "    <tr>\n",
       "      <th>12236</th>\n",
       "      <td>0.665816</td>\n",
       "      <td>France</td>\n",
       "      <td>Male</td>\n",
       "      <td>-2.050591</td>\n",
       "      <td>-0.728320</td>\n",
       "      <td>-0.717950</td>\n",
       "      <td>0.769304</td>\n",
       "      <td>1.0</td>\n",
       "      <td>1.0</td>\n",
       "      <td>0.670629</td>\n",
       "      <td>1.0</td>\n",
       "      <td>0.0</td>\n",
       "      <td>0.0</td>\n",
       "      <td>0.0</td>\n",
       "      <td>1.0</td>\n",
       "    </tr>\n",
       "  </tbody>\n",
       "</table>\n",
       "</div>"
      ],
      "text/plain": [
       "       CreditScore Geography  Gender       Age    Tenure   Balance  \\\n",
       "7180      0.320187    France    Male -0.944682 -1.447264  1.475464   \n",
       "10393     0.347838    France  Female  0.161227 -1.087792  2.254434   \n",
       "80        0.638166   Germany    Male -0.330288  0.350096  1.223831   \n",
       "3365      0.140460     Spain    Male  2.495924 -1.806736 -0.717950   \n",
       "12236     0.665816    France    Male -2.050591 -0.728320 -0.717950   \n",
       "\n",
       "       NumOfProducts  HasCrCard  IsActiveMember  EstimatedSalary  \\\n",
       "7180       -1.108193        1.0             1.0         0.569450   \n",
       "10393      -1.108193        1.0             0.0         0.603803   \n",
       "80          0.769304        1.0             0.0         1.238026   \n",
       "3365        0.769304        0.0             1.0        -1.457116   \n",
       "12236       0.769304        1.0             1.0         0.670629   \n",
       "\n",
       "       Geography_France  Geography_Germany  Geography_Spain  Gender_Female  \\\n",
       "7180                1.0                0.0              0.0            0.0   \n",
       "10393               1.0                0.0              0.0            1.0   \n",
       "80                  0.0                1.0              0.0            0.0   \n",
       "3365                0.0                0.0              1.0            0.0   \n",
       "12236               1.0                0.0              0.0            0.0   \n",
       "\n",
       "       Gender_Male  \n",
       "7180           1.0  \n",
       "10393          0.0  \n",
       "80             1.0  \n",
       "3365           1.0  \n",
       "12236          1.0  "
      ]
     },
     "metadata": {},
     "output_type": "display_data"
    },
    {
     "name": "stdout",
     "output_type": "stream",
     "text": [
      "Validation Inputs (first 5 rows):\n"
     ]
    },
    {
     "data": {
      "text/html": [
       "<div>\n",
       "<style scoped>\n",
       "    .dataframe tbody tr th:only-of-type {\n",
       "        vertical-align: middle;\n",
       "    }\n",
       "\n",
       "    .dataframe tbody tr th {\n",
       "        vertical-align: top;\n",
       "    }\n",
       "\n",
       "    .dataframe thead th {\n",
       "        text-align: right;\n",
       "    }\n",
       "</style>\n",
       "<table border=\"1\" class=\"dataframe\">\n",
       "  <thead>\n",
       "    <tr style=\"text-align: right;\">\n",
       "      <th></th>\n",
       "      <th>CreditScore</th>\n",
       "      <th>Geography</th>\n",
       "      <th>Gender</th>\n",
       "      <th>Age</th>\n",
       "      <th>Tenure</th>\n",
       "      <th>Balance</th>\n",
       "      <th>NumOfProducts</th>\n",
       "      <th>HasCrCard</th>\n",
       "      <th>IsActiveMember</th>\n",
       "      <th>EstimatedSalary</th>\n",
       "      <th>Geography_France</th>\n",
       "      <th>Geography_Germany</th>\n",
       "      <th>Geography_Spain</th>\n",
       "      <th>Gender_Female</th>\n",
       "      <th>Gender_Male</th>\n",
       "    </tr>\n",
       "  </thead>\n",
       "  <tbody>\n",
       "    <tr>\n",
       "      <th>6490</th>\n",
       "      <td>0.762592</td>\n",
       "      <td>Germany</td>\n",
       "      <td>Male</td>\n",
       "      <td>1.021379</td>\n",
       "      <td>-1.447264</td>\n",
       "      <td>1.214543</td>\n",
       "      <td>4.524299</td>\n",
       "      <td>1.0</td>\n",
       "      <td>1.0</td>\n",
       "      <td>-0.988144</td>\n",
       "      <td>0.0</td>\n",
       "      <td>1.0</td>\n",
       "      <td>0.0</td>\n",
       "      <td>0.0</td>\n",
       "      <td>1.0</td>\n",
       "    </tr>\n",
       "    <tr>\n",
       "      <th>3646</th>\n",
       "      <td>-0.910252</td>\n",
       "      <td>France</td>\n",
       "      <td>Male</td>\n",
       "      <td>0.406985</td>\n",
       "      <td>-0.009376</td>\n",
       "      <td>-0.717950</td>\n",
       "      <td>0.769304</td>\n",
       "      <td>1.0</td>\n",
       "      <td>1.0</td>\n",
       "      <td>-1.750392</td>\n",
       "      <td>1.0</td>\n",
       "      <td>0.0</td>\n",
       "      <td>0.0</td>\n",
       "      <td>0.0</td>\n",
       "      <td>1.0</td>\n",
       "    </tr>\n",
       "    <tr>\n",
       "      <th>5306</th>\n",
       "      <td>0.997620</td>\n",
       "      <td>France</td>\n",
       "      <td>Female</td>\n",
       "      <td>0.038348</td>\n",
       "      <td>-1.087792</td>\n",
       "      <td>-0.717950</td>\n",
       "      <td>0.769304</td>\n",
       "      <td>0.0</td>\n",
       "      <td>1.0</td>\n",
       "      <td>-0.022404</td>\n",
       "      <td>1.0</td>\n",
       "      <td>0.0</td>\n",
       "      <td>0.0</td>\n",
       "      <td>1.0</td>\n",
       "      <td>0.0</td>\n",
       "    </tr>\n",
       "    <tr>\n",
       "      <th>652</th>\n",
       "      <td>0.195761</td>\n",
       "      <td>France</td>\n",
       "      <td>Female</td>\n",
       "      <td>0.652742</td>\n",
       "      <td>-0.368848</td>\n",
       "      <td>1.881867</td>\n",
       "      <td>-1.108193</td>\n",
       "      <td>0.0</td>\n",
       "      <td>1.0</td>\n",
       "      <td>-0.139723</td>\n",
       "      <td>1.0</td>\n",
       "      <td>0.0</td>\n",
       "      <td>0.0</td>\n",
       "      <td>1.0</td>\n",
       "      <td>0.0</td>\n",
       "    </tr>\n",
       "    <tr>\n",
       "      <th>2627</th>\n",
       "      <td>0.264887</td>\n",
       "      <td>Spain</td>\n",
       "      <td>Female</td>\n",
       "      <td>-0.944682</td>\n",
       "      <td>-0.368848</td>\n",
       "      <td>-0.717950</td>\n",
       "      <td>0.769304</td>\n",
       "      <td>1.0</td>\n",
       "      <td>0.0</td>\n",
       "      <td>0.563519</td>\n",
       "      <td>0.0</td>\n",
       "      <td>0.0</td>\n",
       "      <td>1.0</td>\n",
       "      <td>1.0</td>\n",
       "      <td>0.0</td>\n",
       "    </tr>\n",
       "  </tbody>\n",
       "</table>\n",
       "</div>"
      ],
      "text/plain": [
       "      CreditScore Geography  Gender       Age    Tenure   Balance  \\\n",
       "6490     0.762592   Germany    Male  1.021379 -1.447264  1.214543   \n",
       "3646    -0.910252    France    Male  0.406985 -0.009376 -0.717950   \n",
       "5306     0.997620    France  Female  0.038348 -1.087792 -0.717950   \n",
       "652      0.195761    France  Female  0.652742 -0.368848  1.881867   \n",
       "2627     0.264887     Spain  Female -0.944682 -0.368848 -0.717950   \n",
       "\n",
       "      NumOfProducts  HasCrCard  IsActiveMember  EstimatedSalary  \\\n",
       "6490       4.524299        1.0             1.0        -0.988144   \n",
       "3646       0.769304        1.0             1.0        -1.750392   \n",
       "5306       0.769304        0.0             1.0        -0.022404   \n",
       "652       -1.108193        0.0             1.0        -0.139723   \n",
       "2627       0.769304        1.0             0.0         0.563519   \n",
       "\n",
       "      Geography_France  Geography_Germany  Geography_Spain  Gender_Female  \\\n",
       "6490               0.0                1.0              0.0            0.0   \n",
       "3646               1.0                0.0              0.0            0.0   \n",
       "5306               1.0                0.0              0.0            1.0   \n",
       "652                1.0                0.0              0.0            1.0   \n",
       "2627               0.0                0.0              1.0            1.0   \n",
       "\n",
       "      Gender_Male  \n",
       "6490          1.0  \n",
       "3646          1.0  \n",
       "5306          0.0  \n",
       "652           0.0  \n",
       "2627          0.0  "
      ]
     },
     "metadata": {},
     "output_type": "display_data"
    }
   ],
   "source": [
    "from IPython.display import display\n",
    "\n",
    "print(\"Train Inputs (first 5 rows):\")\n",
    "display(train_inputs.head())\n",
    "\n",
    "print(\"Validation Inputs (first 5 rows):\")\n",
    "display(val_inputs.head())"
   ]
  },
  {
   "cell_type": "markdown",
   "metadata": {
    "id": "Gk-NVTdyoAtu"
   },
   "source": [
    "5. Збережіть дані, що містяться в змінних `train_inputs`, `train_targets`, `val_inputs`, `val_targets` на диск в форматі `parquet`. В кінці виведіть список файлів в папці, в яку Ви зберегли файли і перевірте, чи файли збереглись. Вивести список файлів можна з `os.listdir(your_dir)` або `!ls your_dir`"
   ]
  },
  {
   "cell_type": "code",
   "execution_count": 12,
   "metadata": {
    "id": "DteIwTkN2hve"
   },
   "outputs": [
    {
     "data": {
      "text/plain": [
       "['train_inputs.parquet',\n",
       " 'train_targets.parquet',\n",
       " 'val_inputs.parquet',\n",
       " 'val_targets.parquet']"
      ]
     },
     "execution_count": 12,
     "metadata": {},
     "output_type": "execute_result"
    }
   ],
   "source": [
    "path = os.path.join(os.getcwd(), 'parquet_files') \n",
    "os.makedirs(path, exist_ok=True) \n",
    "\n",
    "train_inputs.to_parquet(os.path.join(path, 'train_inputs.parquet'))\n",
    "val_inputs.to_parquet(os.path.join(path, 'val_inputs.parquet'))\n",
    "\n",
    "pd.DataFrame(train_targets).to_parquet(os.path.join(path, 'train_targets.parquet'))\n",
    "pd.DataFrame(val_targets).to_parquet(os.path.join(path, 'val_targets.parquet'))\n",
    "                                     \n",
    "os.listdir(path) "
   ]
  },
  {
   "cell_type": "markdown",
   "metadata": {
    "id": "D5_3RjSdowGF"
   },
   "source": [
    "6. З підготовлених вхіжних даних створіть `X_train`, `X_val` набори, які містять лише колонки, які підуть на вхід моделі. Навчіть модель бінарної класифікації з допомогою `LogisticRegression` в `scikit-learn`."
   ]
  },
  {
   "cell_type": "code",
   "execution_count": 13,
   "metadata": {
    "id": "VZUkPF-e2irB"
   },
   "outputs": [
    {
     "data": {
      "text/html": [
       "<style>#sk-container-id-1 {color: black;}#sk-container-id-1 pre{padding: 0;}#sk-container-id-1 div.sk-toggleable {background-color: white;}#sk-container-id-1 label.sk-toggleable__label {cursor: pointer;display: block;width: 100%;margin-bottom: 0;padding: 0.3em;box-sizing: border-box;text-align: center;}#sk-container-id-1 label.sk-toggleable__label-arrow:before {content: \"▸\";float: left;margin-right: 0.25em;color: #696969;}#sk-container-id-1 label.sk-toggleable__label-arrow:hover:before {color: black;}#sk-container-id-1 div.sk-estimator:hover label.sk-toggleable__label-arrow:before {color: black;}#sk-container-id-1 div.sk-toggleable__content {max-height: 0;max-width: 0;overflow: hidden;text-align: left;background-color: #f0f8ff;}#sk-container-id-1 div.sk-toggleable__content pre {margin: 0.2em;color: black;border-radius: 0.25em;background-color: #f0f8ff;}#sk-container-id-1 input.sk-toggleable__control:checked~div.sk-toggleable__content {max-height: 200px;max-width: 100%;overflow: auto;}#sk-container-id-1 input.sk-toggleable__control:checked~label.sk-toggleable__label-arrow:before {content: \"▾\";}#sk-container-id-1 div.sk-estimator input.sk-toggleable__control:checked~label.sk-toggleable__label {background-color: #d4ebff;}#sk-container-id-1 div.sk-label input.sk-toggleable__control:checked~label.sk-toggleable__label {background-color: #d4ebff;}#sk-container-id-1 input.sk-hidden--visually {border: 0;clip: rect(1px 1px 1px 1px);clip: rect(1px, 1px, 1px, 1px);height: 1px;margin: -1px;overflow: hidden;padding: 0;position: absolute;width: 1px;}#sk-container-id-1 div.sk-estimator {font-family: monospace;background-color: #f0f8ff;border: 1px dotted black;border-radius: 0.25em;box-sizing: border-box;margin-bottom: 0.5em;}#sk-container-id-1 div.sk-estimator:hover {background-color: #d4ebff;}#sk-container-id-1 div.sk-parallel-item::after {content: \"\";width: 100%;border-bottom: 1px solid gray;flex-grow: 1;}#sk-container-id-1 div.sk-label:hover label.sk-toggleable__label {background-color: #d4ebff;}#sk-container-id-1 div.sk-serial::before {content: \"\";position: absolute;border-left: 1px solid gray;box-sizing: border-box;top: 0;bottom: 0;left: 50%;z-index: 0;}#sk-container-id-1 div.sk-serial {display: flex;flex-direction: column;align-items: center;background-color: white;padding-right: 0.2em;padding-left: 0.2em;position: relative;}#sk-container-id-1 div.sk-item {position: relative;z-index: 1;}#sk-container-id-1 div.sk-parallel {display: flex;align-items: stretch;justify-content: center;background-color: white;position: relative;}#sk-container-id-1 div.sk-item::before, #sk-container-id-1 div.sk-parallel-item::before {content: \"\";position: absolute;border-left: 1px solid gray;box-sizing: border-box;top: 0;bottom: 0;left: 50%;z-index: -1;}#sk-container-id-1 div.sk-parallel-item {display: flex;flex-direction: column;z-index: 1;position: relative;background-color: white;}#sk-container-id-1 div.sk-parallel-item:first-child::after {align-self: flex-end;width: 50%;}#sk-container-id-1 div.sk-parallel-item:last-child::after {align-self: flex-start;width: 50%;}#sk-container-id-1 div.sk-parallel-item:only-child::after {width: 0;}#sk-container-id-1 div.sk-dashed-wrapped {border: 1px dashed gray;margin: 0 0.4em 0.5em 0.4em;box-sizing: border-box;padding-bottom: 0.4em;background-color: white;}#sk-container-id-1 div.sk-label label {font-family: monospace;font-weight: bold;display: inline-block;line-height: 1.2em;}#sk-container-id-1 div.sk-label-container {text-align: center;}#sk-container-id-1 div.sk-container {/* jupyter's `normalize.less` sets `[hidden] { display: none; }` but bootstrap.min.css set `[hidden] { display: none !important; }` so we also need the `!important` here to be able to override the default hidden behavior on the sphinx rendered scikit-learn.org. See: https://github.com/scikit-learn/scikit-learn/issues/21755 */display: inline-block !important;position: relative;}#sk-container-id-1 div.sk-text-repr-fallback {display: none;}</style><div id=\"sk-container-id-1\" class=\"sk-top-container\"><div class=\"sk-text-repr-fallback\"><pre>LogisticRegression(solver=&#x27;liblinear&#x27;)</pre><b>In a Jupyter environment, please rerun this cell to show the HTML representation or trust the notebook. <br />On GitHub, the HTML representation is unable to render, please try loading this page with nbviewer.org.</b></div><div class=\"sk-container\" hidden><div class=\"sk-item\"><div class=\"sk-estimator sk-toggleable\"><input class=\"sk-toggleable__control sk-hidden--visually\" id=\"sk-estimator-id-1\" type=\"checkbox\" checked><label for=\"sk-estimator-id-1\" class=\"sk-toggleable__label sk-toggleable__label-arrow\">LogisticRegression</label><div class=\"sk-toggleable__content\"><pre>LogisticRegression(solver=&#x27;liblinear&#x27;)</pre></div></div></div></div></div>"
      ],
      "text/plain": [
       "LogisticRegression(solver='liblinear')"
      ]
     },
     "execution_count": 13,
     "metadata": {},
     "output_type": "execute_result"
    }
   ],
   "source": [
    "# Load processed data from disk\n",
    "train_inputs = pd.read_parquet(os.path.join(path, 'train_inputs.parquet'))\n",
    "val_inputs = pd.read_parquet(os.path.join(path, 'val_inputs.parquet'))\n",
    "\n",
    "train_targets = pd.read_parquet(os.path.join(path, 'train_targets.parquet'))[target_col]\n",
    "val_targets = pd.read_parquet(os.path.join(path, 'val_targets.parquet'))[target_col]\n",
    "\n",
    "X_train = train_inputs[numeric_cols + binary_numeric_cols + encoded_cols]\n",
    "X_val = val_inputs[numeric_cols + binary_numeric_cols + encoded_cols]\n",
    "\n",
    "# Create and train the model\n",
    "model = LogisticRegression(solver='liblinear')\n",
    "model.fit(X_train, train_targets)"
   ]
  },
  {
   "cell_type": "markdown",
   "metadata": {
    "id": "37s-m8G2pL4J"
   },
   "source": [
    "7. Виведіть Confusion matrix, ROC Curve, метрику AUROC та метрику F1 Score для порога класифікації 0.5 для побудованої моделі на тренувальних та валідаційних даних. Що можете сказати про якіст моделі? Вона хороша, погана, задовільна?"
   ]
  },
  {
   "cell_type": "code",
   "execution_count": 14,
   "metadata": {
    "id": "I02ENkyJ2jhn"
   },
   "outputs": [
    {
     "name": "stdout",
     "output_type": "stream",
     "text": [
      "Evaluation on Training Data:\n",
      "Training F1 Score: 0.64\n"
     ]
    },
    {
     "data": {
      "image/png": "[encoded data removed]",
      "text/plain": [
       "<Figure size 600x400 with 2 Axes>"
      ]
     },
     "metadata": {},
     "output_type": "display_data"
    },
    {
     "name": "stdout",
     "output_type": "stream",
     "text": [
      "Training AUROC: 0.88\n"
     ]
    },
    {
     "data": {
      "image/png": "[encoded data removed]",
      "text/plain": [
       "<Figure size 600x400 with 1 Axes>"
      ]
     },
     "metadata": {},
     "output_type": "display_data"
    },
    {
     "name": "stdout",
     "output_type": "stream",
     "text": [
      "\n",
      "Evaluation on Validation Data:\n",
      "Validation F1 Score: 0.64\n"
     ]
    },
    {
     "data": {
      "image/png": "[encoded data removed]",
      "text/plain": [
       "<Figure size 600x400 with 2 Axes>"
      ]
     },
     "metadata": {},
     "output_type": "display_data"
    },
    {
     "name": "stdout",
     "output_type": "stream",
     "text": [
      "Validation AUROC: 0.88\n"
     ]
    },
    {
     "data": {
      "image/png": "[encoded data removed]",
      "text/plain": [
       "<Figure size 600x400 with 1 Axes>"
      ]
     },
     "metadata": {},
     "output_type": "display_data"
    }
   ],
   "source": [
    "# Combined evaluation function\n",
    "def predict_and_evaluate_model(inputs, targets, name=''):\n",
    "    # Predict probabilities\n",
    "    y_pred_proba = model.predict_proba(inputs)[:, 1]\n",
    "\n",
    "    # Apply classification threshold of 0.5\n",
    "    y_preds = (y_pred_proba >= 0.5).astype(int)\n",
    "\n",
    "    # Compute F1 Score\n",
    "    f1 = f1_score(targets, y_preds)\n",
    "    print(f\"{name} F1 Score: {f1:.2f}\")\n",
    "\n",
    "    # Compute Confusion Matrix\n",
    "    cf_matrix = confusion_matrix(targets, y_preds, normalize='true')\n",
    "    plt.figure(figsize=(6, 4))\n",
    "    sns.heatmap(cf_matrix, annot=True, fmt='.2f', cmap='Blues')\n",
    "    plt.title(f'{name} Confusion Matrix')\n",
    "    plt.xlabel('Predicted')\n",
    "    plt.ylabel('Actual')\n",
    "    plt.show()\n",
    "\n",
    "    # Compute ROC curve\n",
    "    fpr, tpr, thresholds = roc_curve(targets, y_pred_proba, pos_label=1)\n",
    "    roc_auc = auc(fpr, tpr)\n",
    "    print(f\"{name} AUROC: {roc_auc:.2f}\")\n",
    "\n",
    "    # Plot ROC Curve\n",
    "    plt.figure(figsize=(6, 4))\n",
    "    plt.plot(fpr, tpr, color='darkorange', lw=2, label=f'ROC Curve (AUC = {roc_auc:.2f})')\n",
    "    plt.plot([0, 1], [0, 1], color='navy', lw=2, linestyle='--')\n",
    "    plt.xlim([0.0, 1.0])\n",
    "    plt.ylim([0.0, 1.05])\n",
    "    plt.xlabel('False Positive Rate')\n",
    "    plt.ylabel('True Positive Rate')\n",
    "    plt.title(f'Receiver Operating Characteristic (ROC) Curve for {name}')\n",
    "    plt.legend(loc=\"lower right\")\n",
    "    plt.show()\n",
    "\n",
    "    return y_preds\n",
    "\n",
    "# Evaluate the model on training and validation datasets\n",
    "print('Evaluation on Training Data:')\n",
    "train_preds = predict_and_evaluate_model(X_train, train_targets, name='Training')\n",
    "\n",
    "print('\\nEvaluation on Validation Data:')\n",
    "val_preds = predict_and_evaluate_model(X_val, val_targets, name='Validation')"
   ]
  },
  {
   "cell_type": "markdown",
   "metadata": {
    "id": "3aLarTs4rWIJ"
   },
   "source": [
    "8. Створіть передбачення моделі, яка передбачає завжди мажоритарний клас (той, якого більше в тренувальних даних). Порахуйте Accuracy на тренувальних та валідаційних даних для цієї моделі і тої, що ми натренували в п.6. Зробіть заключення про якість нашої моделі: якість хороша, погана, задовільна?"
   ]
  },
  {
   "cell_type": "code",
   "execution_count": 15,
   "metadata": {
    "id": "0szMoWzd2k_Y"
   },
   "outputs": [
    {
     "name": "stdout",
     "output_type": "stream",
     "text": [
      "Majority class: 0.0\n",
      "Majority class model - Accuracy on training data: 0.80\n",
      "Majority class model - Accuracy on validation data: 0.80\n",
      "Trained model - Accuracy on training data: 0.87\n",
      "Trained model - Accuracy on validation data: 0.87\n"
     ]
    }
   ],
   "source": [
    "majority_class = train_targets.mode()[0]\n",
    "print(f'Majority class: {majority_class}')\n",
    "\n",
    "def predict_majority(X):\n",
    "    return np.full(len(X), majority_class)\n",
    "\n",
    "train_majority_preds = predict_majority(X_train)\n",
    "val_majority_preds = predict_majority(X_val)\n",
    "\n",
    "# Calculate Accuracy for the majority class model\n",
    "train_majority_acc = accuracy_score(train_targets, train_majority_preds)\n",
    "val_majority_acc = accuracy_score(val_targets, val_majority_preds)\n",
    "\n",
    "print(f'Majority class model - Accuracy on training data: {train_majority_acc:.2f}')\n",
    "print(f'Majority class model - Accuracy on validation data: {val_majority_acc:.2f}')\n",
    "\n",
    "# Calculate Accuracy for the trained model\n",
    "train_acc = accuracy_score(train_targets, train_preds)\n",
    "val_acc = accuracy_score(val_targets, val_preds)\n",
    "\n",
    "print(f'Trained model - Accuracy on training data: {train_acc:.2f}')\n",
    "print(f'Trained model - Accuracy on validation data: {val_acc:.2f}')"
   ]
  },
  {
   "cell_type": "markdown",
   "metadata": {},
   "source": [
    "Натренована модель досягає **87% точності**, що перевищує **80% точності** мажоритарної моделі на 7%. Це свідчить, що модель навчилася розпізнавати закономірності в даних і має **задовільну якість**, але може потребувати покращень для точнішої роботи з міноритарним класом."
   ]
  },
  {
   "cell_type": "markdown",
   "metadata": {
    "id": "l_3QF-hAuFgA"
   },
   "source": [
    "9. Збережіть модель і інші обʼєкти, які ви хотіли б зберегти, з використанням бібліотеки joblib в файл `log_reg.joblib`. Потім завантажте модель з файлу в змінну `model_2` (цим ми тренуємось завантажувати модель з файлу на майбутнє)."
   ]
  },
  {
   "cell_type": "code",
   "execution_count": 16,
   "metadata": {
    "id": "FpeQ2qLm2oBU"
   },
   "outputs": [
    {
     "data": {
      "text/plain": [
       "['bank_customer_churn_prediction.joblib']"
      ]
     },
     "execution_count": 16,
     "metadata": {},
     "output_type": "execute_result"
    }
   ],
   "source": [
    "bank_customer_churn_prediction = {\n",
    "    'model': model,\n",
    "    'scaler': scaler,\n",
    "    'encoder': encoder,\n",
    "    'input_cols': input_cols,\n",
    "    'target_col': target_col,\n",
    "    'numeric_cols': numeric_cols,\n",
    "    'binary_numeric_cols': binary_numeric_cols,\n",
    "    'categorical_cols': categorical_cols,\n",
    "    'encoded_cols': encoded_cols\n",
    "}\n",
    "\n",
    "joblib.dump(bank_customer_churn_prediction, 'bank_customer_churn_prediction.joblib')"
   ]
  },
  {
   "cell_type": "code",
   "execution_count": 17,
   "metadata": {},
   "outputs": [],
   "source": [
    "loaded_data = joblib.load('bank_customer_churn_prediction.joblib')\n",
    "\n",
    "model_2 = loaded_data['model']"
   ]
  },
  {
   "cell_type": "markdown",
   "metadata": {
    "id": "E_b1hrHUvQpb"
   },
   "source": [
    "10. Ознайомтесь з роботою наведеної функції `predict_raw_df`. Ця функція робить підготовку даних (масштабування числових колонок і кодування категоріальних) і виводить ймовірності належності до класу 1 для кожного рядка в наданому наборі.\n",
    "\n",
    "Доповніть або внесіть зміни у функцію з врахуванням вашого препроцесингу даних."
   ]
  },
  {
   "cell_type": "code",
   "execution_count": 18,
   "metadata": {
    "id": "n8bLQDa3viLC"
   },
   "outputs": [],
   "source": [
    "import warnings\n",
    "warnings.filterwarnings(\"ignore\")\n",
    "\n",
    "def predict_raw_df(scaler, encoder, numeric_cols, binary_numeric_cols, categorical_cols, input_df: pd.DataFrame):\n",
    "    input_df[numeric_cols] = scaler.transform(input_df[numeric_cols])\n",
    "    input_df[encoded_cols] = encoder.transform(input_df[categorical_cols])\n",
    "    X_input = input_df[numeric_cols + binary_numeric_cols + encoded_cols]\n",
    "    prob = model.predict_proba(X_input)[:,1]\n",
    "    return prob"
   ]
  },
  {
   "cell_type": "code",
   "execution_count": 19,
   "metadata": {
    "id": "n3tx_nQ0vw7W"
   },
   "outputs": [
    {
     "data": {
      "text/plain": [
       "array([0.00562897, 0.03338872, 0.38088582, 0.38008015, 0.9792151 ])"
      ]
     },
     "execution_count": 19,
     "metadata": {},
     "output_type": "execute_result"
    }
   ],
   "source": [
    "predict_raw_df(scaler, encoder, numeric_cols, binary_numeric_cols, categorical_cols, raw_df[:5])"
   ]
  },
  {
   "cell_type": "markdown",
   "metadata": {
    "id": "W8rRDFfExV40"
   },
   "source": [
    "11. Зчитайте дані з `test.csv` в змінну `test_raw_df`. Зробіть передбачення для кожного рядка даних з функцією з попереднього завдання і запишіть результат в нову колонку `Exited` в датафреймі `test_raw_df`."
   ]
  },
  {
   "cell_type": "code",
   "execution_count": 20,
   "metadata": {
    "id": "LyWEdGWx2u6d"
   },
   "outputs": [
    {
     "data": {
      "text/html": [
       "<div>\n",
       "<style scoped>\n",
       "    .dataframe tbody tr th:only-of-type {\n",
       "        vertical-align: middle;\n",
       "    }\n",
       "\n",
       "    .dataframe tbody tr th {\n",
       "        vertical-align: top;\n",
       "    }\n",
       "\n",
       "    .dataframe thead th {\n",
       "        text-align: right;\n",
       "    }\n",
       "</style>\n",
       "<table border=\"1\" class=\"dataframe\">\n",
       "  <thead>\n",
       "    <tr style=\"text-align: right;\">\n",
       "      <th></th>\n",
       "      <th>id</th>\n",
       "      <th>CustomerId</th>\n",
       "      <th>Surname</th>\n",
       "      <th>CreditScore</th>\n",
       "      <th>Geography</th>\n",
       "      <th>Gender</th>\n",
       "      <th>Age</th>\n",
       "      <th>Tenure</th>\n",
       "      <th>Balance</th>\n",
       "      <th>NumOfProducts</th>\n",
       "      <th>HasCrCard</th>\n",
       "      <th>IsActiveMember</th>\n",
       "      <th>EstimatedSalary</th>\n",
       "      <th>Geography_France</th>\n",
       "      <th>Geography_Germany</th>\n",
       "      <th>Geography_Spain</th>\n",
       "      <th>Gender_Female</th>\n",
       "      <th>Gender_Male</th>\n",
       "      <th>Exited</th>\n",
       "    </tr>\n",
       "  </thead>\n",
       "  <tbody>\n",
       "    <tr>\n",
       "      <th>0</th>\n",
       "      <td>15000</td>\n",
       "      <td>15594796.0</td>\n",
       "      <td>Chu</td>\n",
       "      <td>-1.034678</td>\n",
       "      <td>Germany</td>\n",
       "      <td>Male</td>\n",
       "      <td>-0.944682</td>\n",
       "      <td>-1.087792</td>\n",
       "      <td>1.720173</td>\n",
       "      <td>-1.108193</td>\n",
       "      <td>1.0</td>\n",
       "      <td>1.0</td>\n",
       "      <td>0.875226</td>\n",
       "      <td>0.0</td>\n",
       "      <td>1.0</td>\n",
       "      <td>0.0</td>\n",
       "      <td>0.0</td>\n",
       "      <td>1.0</td>\n",
       "      <td>0.069445</td>\n",
       "    </tr>\n",
       "    <tr>\n",
       "      <th>1</th>\n",
       "      <td>15001</td>\n",
       "      <td>15642821.0</td>\n",
       "      <td>Mazzi</td>\n",
       "      <td>-1.490909</td>\n",
       "      <td>France</td>\n",
       "      <td>Male</td>\n",
       "      <td>0.161227</td>\n",
       "      <td>-0.009376</td>\n",
       "      <td>-0.717950</td>\n",
       "      <td>0.769304</td>\n",
       "      <td>1.0</td>\n",
       "      <td>1.0</td>\n",
       "      <td>-1.109098</td>\n",
       "      <td>1.0</td>\n",
       "      <td>0.0</td>\n",
       "      <td>0.0</td>\n",
       "      <td>0.0</td>\n",
       "      <td>1.0</td>\n",
       "      <td>0.033348</td>\n",
       "    </tr>\n",
       "    <tr>\n",
       "      <th>2</th>\n",
       "      <td>15002</td>\n",
       "      <td>15716284.0</td>\n",
       "      <td>Onyekachi</td>\n",
       "      <td>0.651991</td>\n",
       "      <td>France</td>\n",
       "      <td>Male</td>\n",
       "      <td>0.652742</td>\n",
       "      <td>1.069040</td>\n",
       "      <td>-0.717950</td>\n",
       "      <td>0.769304</td>\n",
       "      <td>1.0</td>\n",
       "      <td>0.0</td>\n",
       "      <td>0.850584</td>\n",
       "      <td>1.0</td>\n",
       "      <td>0.0</td>\n",
       "      <td>0.0</td>\n",
       "      <td>0.0</td>\n",
       "      <td>1.0</td>\n",
       "      <td>0.153414</td>\n",
       "    </tr>\n",
       "    <tr>\n",
       "      <th>3</th>\n",
       "      <td>15003</td>\n",
       "      <td>15785078.0</td>\n",
       "      <td>Martin</td>\n",
       "      <td>0.804068</td>\n",
       "      <td>Spain</td>\n",
       "      <td>Male</td>\n",
       "      <td>0.898500</td>\n",
       "      <td>-0.728320</td>\n",
       "      <td>-0.717950</td>\n",
       "      <td>-1.108193</td>\n",
       "      <td>1.0</td>\n",
       "      <td>1.0</td>\n",
       "      <td>1.073044</td>\n",
       "      <td>0.0</td>\n",
       "      <td>0.0</td>\n",
       "      <td>1.0</td>\n",
       "      <td>0.0</td>\n",
       "      <td>1.0</td>\n",
       "      <td>0.199254</td>\n",
       "    </tr>\n",
       "    <tr>\n",
       "      <th>4</th>\n",
       "      <td>15004</td>\n",
       "      <td>15662955.0</td>\n",
       "      <td>Kenechukwu</td>\n",
       "      <td>-0.924077</td>\n",
       "      <td>Spain</td>\n",
       "      <td>Male</td>\n",
       "      <td>0.652742</td>\n",
       "      <td>1.069040</td>\n",
       "      <td>-0.717950</td>\n",
       "      <td>0.769304</td>\n",
       "      <td>1.0</td>\n",
       "      <td>1.0</td>\n",
       "      <td>0.563521</td>\n",
       "      <td>0.0</td>\n",
       "      <td>0.0</td>\n",
       "      <td>1.0</td>\n",
       "      <td>0.0</td>\n",
       "      <td>1.0</td>\n",
       "      <td>0.054301</td>\n",
       "    </tr>\n",
       "  </tbody>\n",
       "</table>\n",
       "</div>"
      ],
      "text/plain": [
       "      id  CustomerId     Surname  CreditScore Geography Gender       Age  \\\n",
       "0  15000  15594796.0         Chu    -1.034678   Germany   Male -0.944682   \n",
       "1  15001  15642821.0       Mazzi    -1.490909    France   Male  0.161227   \n",
       "2  15002  15716284.0   Onyekachi     0.651991    France   Male  0.652742   \n",
       "3  15003  15785078.0      Martin     0.804068     Spain   Male  0.898500   \n",
       "4  15004  15662955.0  Kenechukwu    -0.924077     Spain   Male  0.652742   \n",
       "\n",
       "     Tenure   Balance  NumOfProducts  HasCrCard  IsActiveMember  \\\n",
       "0 -1.087792  1.720173      -1.108193        1.0             1.0   \n",
       "1 -0.009376 -0.717950       0.769304        1.0             1.0   \n",
       "2  1.069040 -0.717950       0.769304        1.0             0.0   \n",
       "3 -0.728320 -0.717950      -1.108193        1.0             1.0   \n",
       "4  1.069040 -0.717950       0.769304        1.0             1.0   \n",
       "\n",
       "   EstimatedSalary  Geography_France  Geography_Germany  Geography_Spain  \\\n",
       "0         0.875226               0.0                1.0              0.0   \n",
       "1        -1.109098               1.0                0.0              0.0   \n",
       "2         0.850584               1.0                0.0              0.0   \n",
       "3         1.073044               0.0                0.0              1.0   \n",
       "4         0.563521               0.0                0.0              1.0   \n",
       "\n",
       "   Gender_Female  Gender_Male    Exited  \n",
       "0            0.0          1.0  0.069445  \n",
       "1            0.0          1.0  0.033348  \n",
       "2            0.0          1.0  0.153414  \n",
       "3            0.0          1.0  0.199254  \n",
       "4            0.0          1.0  0.054301  "
      ]
     },
     "execution_count": 20,
     "metadata": {},
     "output_type": "execute_result"
    }
   ],
   "source": [
    "test_raw_df = pd.read_csv(os.path.join(data_path, 'test.csv'))\n",
    "\n",
    "test_raw_df['Exited'] = predict_raw_df(scaler, encoder, numeric_cols, binary_numeric_cols, categorical_cols, test_raw_df)\n",
    "\n",
    "test_raw_df.head()"
   ]
  },
  {
   "cell_type": "markdown",
   "metadata": {
    "id": "ZHZciHxEx7IZ"
   },
   "source": [
    "12. Зчитайте файл 'sample_submission.csv' і зповніть колонку `Exited` передбаченими вашою моделлю значеннями для кожного відповідного `id` клієнта.\n",
    "Виведіть перші 5 рядків фінального датасету, збережіть результат в файл `submission_log_reg.csv` (УВАГА! не запишіть випадково ще індекси рядків!) і здайте цей файл на Kaggle зі свого профіля натиснувши `Submit Prediction`."
   ]
  },
  {
   "cell_type": "code",
   "execution_count": 21,
   "metadata": {},
   "outputs": [
    {
     "data": {
      "text/html": [
       "<div>\n",
       "<style scoped>\n",
       "    .dataframe tbody tr th:only-of-type {\n",
       "        vertical-align: middle;\n",
       "    }\n",
       "\n",
       "    .dataframe tbody tr th {\n",
       "        vertical-align: top;\n",
       "    }\n",
       "\n",
       "    .dataframe thead th {\n",
       "        text-align: right;\n",
       "    }\n",
       "</style>\n",
       "<table border=\"1\" class=\"dataframe\">\n",
       "  <thead>\n",
       "    <tr style=\"text-align: right;\">\n",
       "      <th></th>\n",
       "      <th>id</th>\n",
       "      <th>Exited</th>\n",
       "    </tr>\n",
       "  </thead>\n",
       "  <tbody>\n",
       "    <tr>\n",
       "      <th>0</th>\n",
       "      <td>15000</td>\n",
       "      <td>0.5</td>\n",
       "    </tr>\n",
       "    <tr>\n",
       "      <th>1</th>\n",
       "      <td>15001</td>\n",
       "      <td>0.5</td>\n",
       "    </tr>\n",
       "    <tr>\n",
       "      <th>2</th>\n",
       "      <td>15002</td>\n",
       "      <td>0.5</td>\n",
       "    </tr>\n",
       "    <tr>\n",
       "      <th>3</th>\n",
       "      <td>15003</td>\n",
       "      <td>0.5</td>\n",
       "    </tr>\n",
       "    <tr>\n",
       "      <th>4</th>\n",
       "      <td>15004</td>\n",
       "      <td>0.5</td>\n",
       "    </tr>\n",
       "  </tbody>\n",
       "</table>\n",
       "</div>"
      ],
      "text/plain": [
       "      id  Exited\n",
       "0  15000     0.5\n",
       "1  15001     0.5\n",
       "2  15002     0.5\n",
       "3  15003     0.5\n",
       "4  15004     0.5"
      ]
     },
     "execution_count": 21,
     "metadata": {},
     "output_type": "execute_result"
    }
   ],
   "source": [
    "submission_df = pd.read_csv(os.path.join(data_path, 'sample_submission.csv'))\n",
    "\n",
    "submission_df.head()"
   ]
  },
  {
   "cell_type": "code",
   "execution_count": 22,
   "metadata": {
    "id": "HjkKnrll2wNA"
   },
   "outputs": [
    {
     "name": "stdout",
     "output_type": "stream",
     "text": [
      "First 5 rows of the submission file:\n",
      "      id    Exited\n",
      "0  15000  0.069445\n",
      "1  15001  0.033348\n",
      "2  15002  0.153414\n",
      "3  15003  0.199254\n",
      "4  15004  0.054301\n",
      "Submission file saved as submission_log_reg.csv. Ready for upload to Kaggle!\n"
     ]
    }
   ],
   "source": [
    "submission_df['Exited'] = test_raw_df.set_index('id').loc[submission_df['id'], 'Exited'].values\n",
    "\n",
    "print('First 5 rows of the submission file:')\n",
    "print(submission_df.head())\n",
    "\n",
    "submission_df.to_csv(os.path.join(data_path, 'submission_log_reg.csv'), index=False)\n",
    "print('Submission file saved as submission_log_reg.csv. Ready for upload to Kaggle!')"
   ]
  },
  {
   "cell_type": "code",
   "execution_count": null,
   "metadata": {},
   "outputs": [],
   "source": []
  }
 ],
 "metadata": {
  "colab": {
   "provenance": []
  },
  "kernelspec": {
   "display_name": "Python 3 (ipykernel)",
   "language": "python",
   "name": "python3"
  },
  "language_info": {
   "codemirror_mode": {
    "name": "ipython",
    "version": 3
   },
   "file_extension": ".py",
   "mimetype": "text/x-python",
   "name": "python",
   "nbconvert_exporter": "python",
   "pygments_lexer": "ipython3",
   "version": "3.11.5"
  }
 },
 "nbformat": 4,
 "nbformat_minor": 1
}
