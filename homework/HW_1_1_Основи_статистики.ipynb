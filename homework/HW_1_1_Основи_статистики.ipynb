{
 "cells": [
  {
   "cell_type": "markdown",
   "metadata": {
    "id": "SDhaTqxcWhnP"
   },
   "source": [
    "В цьому домашньому завданні відпрацюємо з вами знання, отримані в модулі зі статистики.\n",
    "\n",
    "**Завдання 1.** Ми обговорили з Вами на лекції, що велика літера Сігма грецького алфавіту позначає в математиці суму. Знайдіть з використанням Python $\\Sigma x$, $\\Sigma x^2$, та $\\Sigma (x-1)^2$ для наступного набору даних:\n",
    "`1 3 4`\n",
    "Виведіть результат кожного обчислення на екран."
   ]
  },
  {
   "cell_type": "code",
   "execution_count": 1,
   "metadata": {
    "id": "B1mgx_IBT0e8"
   },
   "outputs": [
    {
     "name": "stdout",
     "output_type": "stream",
     "text": [
      "Sum of x = 8\n",
      "Sum of x^2 = 26\n",
      "Sum of (x - 1)^2 = 13\n"
     ]
    }
   ],
   "source": [
    "data = [1, 3, 4]\n",
    "\n",
    "sum_x = sum(data)  \n",
    "sum_x_squared = sum(x**2 for x in data)  \n",
    "sum_x_minus_1_squared = sum((x - 1)**2 for x in data) \n",
    "\n",
    "print(f'Sum of x = {sum_x}')\n",
    "print(f'Sum of x^2 = {sum_x_squared}')\n",
    "print(f'Sum of (x - 1)^2 = {sum_x_minus_1_squared}')"
   ]
  },
  {
   "cell_type": "markdown",
   "metadata": {
    "id": "fa78aW5lhiia"
   },
   "source": [
    "**Завдання 2.** Ми зібрали дані про суму покупок в гривнях 20ма випадково обраними клієнтами в нашому магазині (всього клієнтів у нас більше) за минулий місяць. Вони представлені в змінній `sum_purchases`. Знайдіть **вибіркове середнє** для цих даних кожним з зазначених методів:   \n",
    "\n",
    "  2.1. без використання жодних бібліотек, користуючись тільки Python.  \n",
    "  2.2. використовуючи відповідний метод бібліотеки `numpy`.\n",
    "\n",
    "  Виведіть результат обчислень в кожному з випадків на екран та порівняйте результати. Вони співпадають?"
   ]
  },
  {
   "cell_type": "code",
   "execution_count": 2,
   "metadata": {
    "id": "_9kMt3rq6V5m"
   },
   "outputs": [],
   "source": [
    "sum_purchases = [ 316,  493,  367,  153,  224,  121,  322,  450,  196,  397,  281,\n",
    "  239,  484,  124,  223,  448,  432,  255, 4310, 3524]"
   ]
  },
  {
   "cell_type": "code",
   "execution_count": 3,
   "metadata": {
    "id": "wPmL919HT1c0"
   },
   "outputs": [
    {
     "name": "stdout",
     "output_type": "stream",
     "text": [
      "Sample mean (manual): 667.95\n",
      "Sample mean (numpy): 667.95\n"
     ]
    }
   ],
   "source": [
    "import numpy as np\n",
    "\n",
    "n_sum_purchases = len(sum_purchases)\n",
    "\n",
    "mean_purchases_manual = sum(sum_purchases) / n_sum_purchases\n",
    "mean_purchases_np = np.mean(sum_purchases)\n",
    "\n",
    "print(f'Sample mean (manual): {mean_purchases_manual}')\n",
    "print(f'Sample mean (numpy): {mean_purchases_np}')"
   ]
  },
  {
   "cell_type": "code",
   "execution_count": 4,
   "metadata": {},
   "outputs": [
    {
     "name": "stdout",
     "output_type": "stream",
     "text": [
      "The results are the same.\n"
     ]
    }
   ],
   "source": [
    "# Compare the results\n",
    "if mean_purchases_manual == mean_purchases_np:\n",
    "    print(\"The results are the same.\")\n",
    "else:\n",
    "    print(\"The results are different.\")"
   ]
  },
  {
   "cell_type": "markdown",
   "metadata": {
    "id": "FMdoxZd0kZdW"
   },
   "source": [
    "**Завдання 3.** Для того ж набору даних в змінній `sum_purchases` обчисліть **медіану** кожним з зазначених методів:  \n",
    "\n",
    "  3.1. без використання жодних бібліотек, користуючись тільки Python.  \n",
    "  3.2. використовуючи відповідний метод бібліотеки numpy.  \n",
    "\n",
    "Виведіть результат обчислень в кожному з випадків на екран. Порівняйте результати зі значенням вибіркового середнього. Напишіть коментар, для яких задач ви б використовували вибіркове середнє, а для яких - медіану?"
   ]
  },
  {
   "cell_type": "code",
   "execution_count": 5,
   "metadata": {
    "id": "x58BumvuT2nl"
   },
   "outputs": [
    {
     "name": "stdout",
     "output_type": "stream",
     "text": [
      "Median (manual): 319.0\n",
      "Median (numpy): 319.0\n"
     ]
    }
   ],
   "source": [
    "sorted_purchases = sorted(sum_purchases)\n",
    "\n",
    "median_purchases_manual = None\n",
    "\n",
    "if n_sum_purchases % 2 == 0:\n",
    "    # for even number of elements, take the average of the two middle elements\n",
    "    median_purchases_manual = (sorted_purchases[n_sum_purchases // 2 - 1] + sorted_purchases[n_sum_purchases // 2]) / 2\n",
    "else:\n",
    "    # for odd number of elements, take the middle element\n",
    "    median_purchases_manual = sorted_purchases[n_sum_purchases // 2]\n",
    "    \n",
    "median_purchases_np = np.median(sum_purchases)\n",
    "\n",
    "print(f'Median (manual): {median_purchases_manual}')\n",
    "print(f'Median (numpy): {median_purchases_np}')"
   ]
  },
  {
   "cell_type": "markdown",
   "metadata": {},
   "source": [
    "**Коментар**\n",
    "\n",
    "Для нашого набору даних медіана є більш ніж удвічі меншою за середнє через викиди (`4310`, `3524`).\n",
    "\n",
    "Я б використала **середнє** для завдань, де важливо врахувати всі значення, наприклад, для оцінки середнього доходу чи середнього результату студентів.\n",
    "\n",
    "**Медіану** я б обрала для завдань, де є викиди або асиметричний розподіл, наприклад, для аналізу середнього доходу в регіоні з великою нерівністю або для знаходження типової ціни на ринку."
   ]
  },
  {
   "cell_type": "markdown",
   "metadata": {
    "id": "o1Z7az2yNDQV"
   },
   "source": [
    "**Завдання 4**. Обчислість стандартне відхилення наведеної вибірки в змінній `sum_purchases` кожним з зазначених методів:  \n",
    "\n",
    "  4.1. без використання жодних бібліотек, користуючись тільки Python.  \n",
    "  4.2. використовуючи відповідний метод бібліотеки numpy.  \n",
    "\n",
    "Виведіть результат обчислень в кожному з випадків на екран."
   ]
  },
  {
   "cell_type": "code",
   "execution_count": 6,
   "metadata": {
    "id": "X4ixtmL2T642"
   },
   "outputs": [
    {
     "name": "stdout",
     "output_type": "stream",
     "text": [
      "Standard Deviation (manual): 1124.5433447451132\n",
      "Standard Deviation (numpy): 1124.5433447451132\n"
     ]
    }
   ],
   "source": [
    "purchases_minus_mean = [(el - mean_purchases_manual)**2 for el in sum_purchases]\n",
    "std_purchases_manual = np.sqrt(sum(purchases_minus_mean)/(n_sum_purchases-1))\n",
    "\n",
    "std_purchases_np = np.std(sum_purchases, ddof=1)\n",
    "\n",
    "print(f'Standard Deviation (manual): {std_purchases_manual}')\n",
    "print(f'Standard Deviation (numpy): {std_purchases_np}')"
   ]
  },
  {
   "cell_type": "markdown",
   "metadata": {
    "id": "M1ntKTjXLVlH"
   },
   "source": [
    "**Завдання 5**. Ми провели дослідження віку студентів-першокурсників. Виявилось, що\n",
    "- 10 студентів мають вік 16 років\n",
    "- 25 студентів - 17 років\n",
    "- 20 студентів - 18 років\n",
    "- 2 студенти - 20 років\n",
    "\n",
    "Обчислість середнє значення для цієї вибірки будь-яким способом - на чистому Python або з numpy - та виведіть результат на екран."
   ]
  },
  {
   "cell_type": "code",
   "execution_count": 7,
   "metadata": {
    "id": "RdIU4M-7T8R4"
   },
   "outputs": [
    {
     "name": "stdout",
     "output_type": "stream",
     "text": [
      "Mean Age (manual): 17.280701754385966\n",
      "Mean Age (numpy): 17.280701754385966\n"
     ]
    }
   ],
   "source": [
    "ages = [16, 17, 18, 20]\n",
    "counts = [10, 25, 20, 2]\n",
    "\n",
    "total_students = sum(counts)\n",
    "\n",
    "# calculate the weighted sum of ages\n",
    "weighted_sum = sum(age * count for age, count in zip(ages, counts))\n",
    "\n",
    "mean_age_manual = weighted_sum / total_students\n",
    "\n",
    "mean_age_numpy = np.average(ages, weights=counts)\n",
    "\n",
    "print(f'Mean Age (manual): {mean_age_manual}')\n",
    "print(f'Mean Age (numpy): {mean_age_numpy}')"
   ]
  },
  {
   "cell_type": "markdown",
   "metadata": {
    "id": "Xx8MFkkVM53z"
   },
   "source": [
    "**Завдання 6**. Крім даних про суму покупок, ми зібрали ще дані про кількість відвідувань кожного з кожного покупця, які знаходяться в змінній `visits`. Обчисліть коефіцієнт кореляції Пірсона для суми покупок і кількості відвідувань кожним з зазначених методів:  \n",
    "\n",
    "  6.1. без використання жодних бібліотек, користуючись тільки Python.  \n",
    "  6.2. використовуючи відповідний метод бібліотеки numpy.  \n",
    "  \n",
    "Виведіть результат на екран. Проаналізуйте результат.\n",
    "\n",
    "Виведіть додатково графік розсіювання викликавши код нижче і зробіть заключення, чи варто щось змінити при підрахунку кореляції, аби коефіцієнт Пірсона показував коректну оцінку лінійної залежності?"
   ]
  },
  {
   "cell_type": "code",
   "execution_count": 8,
   "metadata": {
    "id": "4OIGBT7UOWhO"
   },
   "outputs": [],
   "source": [
    "visits = [ 6,  2, 10,  3,  9,  9,  2,  3,  6,  6, 10,  2,  5, 10,  3,  5,  4,\n",
    "        7,  4,  2]"
   ]
  },
  {
   "cell_type": "code",
   "execution_count": 9,
   "metadata": {
    "id": "YLNF7VbeT97Q"
   },
   "outputs": [
    {
     "name": "stdout",
     "output_type": "stream",
     "text": [
      "Pearson Correlation (manual): -0.3026584468766646\n",
      "Pearson Correlation (numpy): -0.3026584468766646\n"
     ]
    }
   ],
   "source": [
    "mean_purchases = sum(sum_purchases) / len(sum_purchases)\n",
    "mean_visits = sum(visits) / len(visits)\n",
    "\n",
    "purchases_visits = [(sum_purchases[i] - mean_purchases)*(visits[i] - mean_visits) for i in range(len(sum_purchases))]\n",
    "cov = sum(purchases_visits)/(len(sum_purchases)-1)\n",
    "\n",
    "visits_minus_mean = [(el - mean_visits)**2 for el in visits]\n",
    "std_visits = np.sqrt(sum(visits_minus_mean)/(len(visits)-1))\n",
    "\n",
    "pearson_manual = cov / (std_purchases_manual * std_visits)\n",
    "\n",
    "pearson_np = np.corrcoef(sum_purchases, visits)[0, 1]\n",
    "\n",
    "print(f'Pearson Correlation (manual): {pearson_manual}')\n",
    "print(f'Pearson Correlation (numpy): {pearson_np}')"
   ]
  },
  {
   "cell_type": "code",
   "execution_count": 10,
   "metadata": {
    "colab": {
     "base_uri": "https://localhost:8080/",
     "height": 472
    },
    "id": "gaeoGA-5Prr1",
    "outputId": "0c910a7f-0e96-449a-881d-1efa453b3c8d"
   },
   "outputs": [
    {
     "data": {
      "image/png": "[encoded data removed]",
      "text/plain": [
       "<Figure size 640x480 with 1 Axes>"
      ]
     },
     "metadata": {},
     "output_type": "display_data"
    }
   ],
   "source": [
    "import matplotlib.pyplot as plt\n",
    "\n",
    "plt.scatter(sum_purchases, visits)\n",
    "plt.title('Scatter Plot of Purchases vs. Visits')\n",
    "plt.xlabel('Sum of Purchases')\n",
    "plt.ylabel('Number of Visits');"
   ]
  },
  {
   "cell_type": "markdown",
   "metadata": {},
   "source": [
    "**Коментар**\n",
    "\n",
    "Значення кореляції є від'ємним, що вказує на зворотну залежність між сумою покупок і кількістю відвідувань. Тобто, **зростання суми покупок асоціюється зі зменшенням кількості відвідувань**, але залежність слабка.\n",
    "\n",
    "Аби коефіцієнт Пірсона показував коректну оцінку лінійної залежності, варто **видалити викиди**, оскільки він чутливий до них."
   ]
  },
  {
   "cell_type": "markdown",
   "metadata": {
    "id": "4pEg0KzSQ6KA"
   },
   "source": [
    "**Завдання 7**. В попередньому завданні ми помітили, що викиди нам заважають отримати \"правдиве\" значення кореляції. Давайте вилучимо записи, які відповідають значенням з викидами в сумі покупок і обчисліть коеф. кореляції. Для цього поставте `threshold`, який дорінює середньому значенню + 2 стандартних вдіхилля суми покупок і всі значення, які більше за нього, будемо вважати викидами (є і інші правила для визначення викидів - з ним и познайомимось пізніше).\n",
    "\n",
    "Вилучіть значення з обох масивів і обчисліть коеф. кореляції Пірсона з допомогою `numpy` для кількості візитів і суми покупок без записів-викидів. Виведіть результат на екран, побудуйте діаграму розсіювання і проаналізуйте результат: що можемо сказати про залежність в даних?"
   ]
  },
  {
   "cell_type": "code",
   "execution_count": 11,
   "metadata": {
    "id": "Yj3Yfaf7UBbc"
   },
   "outputs": [
    {
     "name": "stdout",
     "output_type": "stream",
     "text": [
      "Threshold: 2917.0366894902263\n",
      "Pearson Correlation (cleaned data): -0.3685212078127798\n"
     ]
    }
   ],
   "source": [
    "threshold = mean_purchases + 2 * std_purchases_manual\n",
    "\n",
    "# remove outliers\n",
    "cleaned_purchases = [x for x in sum_purchases if x <= threshold]\n",
    "cleaned_visits = [visits[i] for i, x in enumerate(sum_purchases) if x <= threshold]\n",
    "\n",
    "pearson_cleaned = np.corrcoef(cleaned_purchases, cleaned_visits)[0, 1]\n",
    "\n",
    "print(f'Threshold: {threshold}')\n",
    "print(f'Pearson Correlation (cleaned data): {pearson_cleaned}')"
   ]
  },
  {
   "cell_type": "code",
   "execution_count": 12,
   "metadata": {},
   "outputs": [
    {
     "data": {
      "image/png": "[encoded data removed]",
      "text/plain": [
       "<Figure size 640x480 with 1 Axes>"
      ]
     },
     "metadata": {},
     "output_type": "display_data"
    }
   ],
   "source": [
    "plt.scatter(cleaned_purchases, cleaned_visits)\n",
    "plt.title('Scatter Plot: Visits vs Purchases (Without Outliers)')\n",
    "plt.xlabel('Sum of Purchases')\n",
    "plt.ylabel('Number of Visits');"
   ]
  },
  {
   "cell_type": "markdown",
   "metadata": {},
   "source": [
    "**Коментар**\n",
    "\n",
    "Після видалення викидів коефіцієнт кореляції Пірсона становить `-0.3685`, що вказує на помірну негативну залежність між сумою покупок і кількістю відвідувань. Це означає, що зі збільшенням суми покупок кількості відвідувань зменшується, але залежність не є сильною.\n",
    "\n",
    "Негативна кореляція свідчить про те, що клієнти, які здійснюють менші покупки за один раз, зазвичай відвідують частіше, що може бути пов’язано з поведінковими чи бізнес-факторами."
   ]
  },
  {
   "cell_type": "code",
   "execution_count": null,
   "metadata": {},
   "outputs": [],
   "source": []
  }
 ],
 "metadata": {
  "colab": {
   "provenance": []
  },
  "kernelspec": {
   "display_name": "Python 3 (ipykernel)",
   "language": "python",
   "name": "python3"
  },
  "language_info": {
   "codemirror_mode": {
    "name": "ipython",
    "version": 3
   },
   "file_extension": ".py",
   "mimetype": "text/x-python",
   "name": "python",
   "nbconvert_exporter": "python",
   "pygments_lexer": "ipython3",
   "version": "3.11.5"
  }
 },
 "nbformat": 4,
 "nbformat_minor": 1
}
